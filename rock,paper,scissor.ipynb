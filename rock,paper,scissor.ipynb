{
 "cells": [
  {
   "cell_type": "code",
   "execution_count": 4,
   "source": [
    "import random \r\n",
    "def play():\r\n",
    "    user=input(\"What is your choice? 'r' for rock, 'p' for paper, 's' for scissors\\n\")\r\n",
    "    computer=random.choice(['r', 'p', 's'])\r\n",
    "    if user==computer:\r\n",
    "         return 'It\\'s a tie'\r\n",
    "\r\n",
    "    if is_win(user,computer):\r\n",
    "     return \"You Won!\"\r\n",
    "     return \"You Lost!\"\r\n",
    "\r\n",
    "\r\n",
    "def is_win(player, opponent):\r\n",
    "    if (player == 'r'and opponent == 's') or (player == 's' and opponent == 'p')\\\r\n",
    "        or (player == 'p' and opponent == 'r'):\r\n",
    "        return True\r\n",
    "print (play())"
   ],
   "outputs": [
    {
     "output_type": "stream",
     "name": "stdout",
     "text": [
      "None\n"
     ]
    }
   ],
   "metadata": {}
  }
 ],
 "metadata": {
  "orig_nbformat": 4,
  "language_info": {
   "name": "python",
   "version": "3.9.5",
   "mimetype": "text/x-python",
   "codemirror_mode": {
    "name": "ipython",
    "version": 3
   },
   "pygments_lexer": "ipython3",
   "nbconvert_exporter": "python",
   "file_extension": ".py"
  },
  "kernelspec": {
   "name": "python3",
   "display_name": "Python 3.9.5 64-bit"
  },
  "interpreter": {
   "hash": "88f474a6105d817211ff39c95e6d8c824d9107577c8c1309677898745d1a4908"
  }
 },
 "nbformat": 4,
 "nbformat_minor": 2
}